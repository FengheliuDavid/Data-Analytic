{
 "cells": [
  {
   "cell_type": "markdown",
   "metadata": {},
   "source": [
    "<h1>Problem 1: Factorials using numpy</h1>\n",
    "<li><b>prod</b> A numpy function that returns the product of all elements in an array\n",
    "<li><b>cumprod</b> A numpy function on an ndarray of size n that returns an array of size n where each element i is the product of all elements from 0 to i\n"
   ]
  },
  {
   "cell_type": "code",
   "execution_count": 1,
   "metadata": {},
   "outputs": [
    {
     "data": {
      "text/plain": [
       "24"
      ]
     },
     "execution_count": 1,
     "metadata": {},
     "output_type": "execute_result"
    }
   ],
   "source": [
    "\"\"\"\n",
    "Replace pass with the code that uses ndarray, prod and cumprod \n",
    "to calculate the factorial of n\n",
    "\n",
    "The function should take an integer as an argument and return an integer\n",
    "\n",
    "\"\"\"\n",
    "      \n",
    "def factorial(n):\n",
    "    import numpy as np\n",
    "    arr=np.arange(1,n+1)\n",
    "    return np.prod(arr)\n",
    "\n",
    "factorial(4)\n"
   ]
  },
  {
   "cell_type": "code",
   "execution_count": 2,
   "metadata": {},
   "outputs": [
    {
     "data": {
      "text/plain": [
       "array([ 1,  2,  6, 24], dtype=int32)"
      ]
     },
     "execution_count": 2,
     "metadata": {},
     "output_type": "execute_result"
    }
   ],
   "source": [
    "\"\"\"\n",
    "Replace pass with the code that uses ndarray, prod and cumprod to \n",
    "calculate the factorials of all values from 1 to n\n",
    "\n",
    "The function should take an integer as an argument and return an ndarray\n",
    "of size n \n",
    "\n",
    "\"\"\"\n",
    "\n",
    "def all_factorials(n):\n",
    "    import numpy as np\n",
    "    arr=np.arange(1,n+1)\n",
    "    return np.cumprod(arr)\n",
    "\n",
    "all_factorials(4)"
   ]
  },
  {
   "cell_type": "code",
   "execution_count": 13,
   "metadata": {},
   "outputs": [
    {
     "data": {
      "text/plain": [
       "18"
      ]
     },
     "execution_count": 13,
     "metadata": {},
     "output_type": "execute_result"
    }
   ],
   "source": [
    "\"\"\"\n",
    "Replace pass with the code that use ndarray, np.prod, and np.where \n",
    "to calculate the product of elements in array that are divisible by i\n",
    "\n",
    "The function should take an array and an integer(i) as arguments and return an integer\n",
    "\n",
    "\"\"\"\n",
    "import numpy as np\n",
    "\n",
    "def func(a,i):\n",
    "    import numpy as np\n",
    "    a1=a[np.where(a%i==0)]\n",
    "    return np.prod(a1)\n",
    "        \n",
    "func(np.array([1,7,3,6]),3)"
   ]
  },
  {
   "cell_type": "markdown",
   "metadata": {},
   "source": [
    "<h1>Problem 2: Percent changes</h1>\n",
    "Write a function that constructs an ndarray from data in a file and \n",
    "returns a 1-period percent change on an ndarray after removing any nan values. Your function must make use of the following functions:\n",
    "<li>np.genfromtxt: https://docs.scipy.org/doc/numpy-1.13.0/reference/generated/numpy.genfromtxt.html\n",
    "<li>np.diff: https://docs.scipy.org/doc/numpy-1.13.0/reference/generated/numpy.diff.html\n",
    "<li>np.isnan: https://docs.scipy.org/doc/numpy-1.13.0/reference/generated/numpy.isnan.html\n",
    "\n",
    "<p>Test your function out using the attached apple.csv file. Your function can assume that the file structure is (date,price)\n",
    "\n",
    "<p>Note that percent change is defined as (p(t)-p(t-1))/p(t-1)\n",
    "\n",
    "<b>Example:</b><br>\n",
    "If the data array is: np.array([1,2,np.NaN,4,8,np.NAN])\n",
    "<br>\n",
    "The output array should be<br>\n",
    "array([ 1.,  1.,  1.])\n"
   ]
  },
  {
   "cell_type": "code",
   "execution_count": 14,
   "metadata": {},
   "outputs": [],
   "source": [
    "def get_pct_changes(file_name):\n",
    "    import numpy as np\n",
    "    #get data\n",
    "    price=np.genfromtxt(file_name,delimiter=',',usecols=1)\n",
    "    #remove the nan\n",
    "    selector_array=(np.isnan(price)==False)\n",
    "    price=price[selector_array]\n",
    "    #calculate the pct change\n",
    "    diff=np.diff(price)\n",
    "    pricelist=list(price)\n",
    "    pricelist.pop()\n",
    "    price=np.array(pricelist)\n",
    "    pct_change=diff/price\n",
    "    return pct_change"
   ]
  },
  {
   "cell_type": "code",
   "execution_count": 15,
   "metadata": {},
   "outputs": [
    {
     "data": {
      "text/plain": [
       "array([-0.05217305, -0.07339571,  0.02475207, ..., -0.00977899,\n",
       "       -0.00882215,  0.01720356])"
      ]
     },
     "execution_count": 15,
     "metadata": {},
     "output_type": "execute_result"
    }
   ],
   "source": [
    "get_pct_changes('apple.csv')"
   ]
  },
  {
   "cell_type": "markdown",
   "metadata": {},
   "source": [
    "<h1>Problem 3: Pandas Grouping</h1>\n",
    "Write a program that reads timeseries pricing data from a file into a pandas dataframe and then groups the data as follows:\n",
    "<li>Adds a column, 'one-day percent change' to the file \n",
    "<li>Write a function that groups the data into four categories:\n",
    "<ul>\n",
    "<li>\"High+\" if the percent change is greater than 2.5%\n",
    "<li>\"Low+\" if the percent change is positive and less than or equal to 2.5% \n",
    "<li>\"Low-\" if the percent change is negative but greater than or equal to -2.5%\n",
    "<li>\"High-\" if the percent change is less than -2.5%\n",
    "</ul>\n",
    "<li>Report the size and the mean of each groups in dataframe\n",
    "\n"
   ]
  },
  {
   "cell_type": "code",
   "execution_count": 1,
   "metadata": {},
   "outputs": [
    {
     "name": "stdout",
     "output_type": "stream",
     "text": [
      "            Date   Adj Close\n",
      "0     1980-12-12    0.421597\n",
      "1     1980-12-15    0.399601\n",
      "2     1980-12-16    0.370272\n",
      "3     1980-12-17    0.379437\n",
      "4     1980-12-18    0.390436\n",
      "...          ...         ...\n",
      "9273  2017-09-20  156.070007\n",
      "9274  2017-09-21  153.389999\n",
      "9275  2017-09-22  151.889999\n",
      "9276  2017-09-25  150.550003\n",
      "9277  2017-09-26  153.139999\n",
      "\n",
      "[9278 rows x 2 columns]\n"
     ]
    }
   ],
   "source": [
    "datafile = \"apple.csv\"\n",
    "import pandas as pd\n",
    "df = pd.read_csv('apple.csv',na_values='null')\n",
    "print(df)"
   ]
  },
  {
   "cell_type": "code",
   "execution_count": 2,
   "metadata": {},
   "outputs": [
    {
     "name": "stdout",
     "output_type": "stream",
     "text": [
      "            Date   Adj Close  one-day percent change\n",
      "0     1980-12-12    0.421597                     NaN\n",
      "1     1980-12-15    0.399601               -0.052173\n",
      "2     1980-12-16    0.370272               -0.073396\n",
      "3     1980-12-17    0.379437                0.024752\n",
      "4     1980-12-18    0.390436                0.028988\n",
      "...          ...         ...                     ...\n",
      "9273  2017-09-20  156.070007               -0.016758\n",
      "9274  2017-09-21  153.389999               -0.017172\n",
      "9275  2017-09-22  151.889999               -0.009779\n",
      "9276  2017-09-25  150.550003               -0.008822\n",
      "9277  2017-09-26  153.139999                0.017204\n",
      "\n",
      "[9278 rows x 3 columns]\n"
     ]
    }
   ],
   "source": [
    "#Adds column 'one-day percent change'\n",
    "df=df.copy()\n",
    "df['one-day percent change']=df['Adj Close'].pct_change()\n",
    "print(df)"
   ]
  },
  {
   "cell_type": "code",
   "execution_count": 9,
   "metadata": {},
   "outputs": [],
   "source": [
    "def GroupColFunc(df1):\n",
    "    import numpy as np\n",
    "    import pandas as pd\n",
    "    df1=df1.copy()\n",
    "    df1=df1.iloc[1:]\n",
    "    df1.reset_index(inplace = True, drop=True)\n",
    "    df1['category']=0\n",
    "    for i in df1.index:\n",
    "        if df1.loc[i,'one-day percent change']>0.025:\n",
    "            df1.loc[i,'category']='High+'\n",
    "        elif 0<df1.loc[i,'one-day percent change']<=0.025:\n",
    "            df1.loc[i,'category']='Low+'\n",
    "        elif -0.025<=df1.loc[i,'one-day percent change']<0:\n",
    "            df1.loc[i,'category']='Low-'\n",
    "        elif df1.loc[i,'one-day percent change']<-0.025:\n",
    "            df1.loc[i,'category']='High-'\n",
    "    grouped_result=df1.groupby('category')['Adj Close','one-day percent change'].agg([np.size, np.mean])\n",
    "    return grouped_result\n"
   ]
  },
  {
   "cell_type": "code",
   "execution_count": 10,
   "metadata": {},
   "outputs": [
    {
     "name": "stderr",
     "output_type": "stream",
     "text": [
      "C:\\Users\\lfh\\AppData\\Local\\Temp\\ipykernel_22652\\3870347037.py:17: FutureWarning: Indexing with multiple keys (implicitly converted to a tuple of keys) will be deprecated, use a list instead.\n",
      "  grouped_result=df1.groupby('category')['Adj Close','one-day percent change'].agg([np.size, np.mean])\n"
     ]
    },
    {
     "data": {
      "text/html": [
       "<div>\n",
       "<style scoped>\n",
       "    .dataframe tbody tr th:only-of-type {\n",
       "        vertical-align: middle;\n",
       "    }\n",
       "\n",
       "    .dataframe tbody tr th {\n",
       "        vertical-align: top;\n",
       "    }\n",
       "\n",
       "    .dataframe thead tr th {\n",
       "        text-align: left;\n",
       "    }\n",
       "\n",
       "    .dataframe thead tr:last-of-type th {\n",
       "        text-align: right;\n",
       "    }\n",
       "</style>\n",
       "<table border=\"1\" class=\"dataframe\">\n",
       "  <thead>\n",
       "    <tr>\n",
       "      <th></th>\n",
       "      <th colspan=\"2\" halign=\"left\">Adj Close</th>\n",
       "      <th colspan=\"2\" halign=\"left\">one-day percent change</th>\n",
       "    </tr>\n",
       "    <tr>\n",
       "      <th></th>\n",
       "      <th>size</th>\n",
       "      <th>mean</th>\n",
       "      <th>size</th>\n",
       "      <th>mean</th>\n",
       "    </tr>\n",
       "    <tr>\n",
       "      <th>category</th>\n",
       "      <th></th>\n",
       "      <th></th>\n",
       "      <th></th>\n",
       "      <th></th>\n",
       "    </tr>\n",
       "  </thead>\n",
       "  <tbody>\n",
       "    <tr>\n",
       "      <th>0</th>\n",
       "      <td>366</td>\n",
       "      <td>1.555968</td>\n",
       "      <td>366</td>\n",
       "      <td>0.000000</td>\n",
       "    </tr>\n",
       "    <tr>\n",
       "      <th>High+</th>\n",
       "      <td>1391</td>\n",
       "      <td>8.652295</td>\n",
       "      <td>1391</td>\n",
       "      <td>0.045705</td>\n",
       "    </tr>\n",
       "    <tr>\n",
       "      <th>High-</th>\n",
       "      <td>1210</td>\n",
       "      <td>8.289065</td>\n",
       "      <td>1210</td>\n",
       "      <td>-0.044220</td>\n",
       "    </tr>\n",
       "    <tr>\n",
       "      <th>Low+</th>\n",
       "      <td>3170</td>\n",
       "      <td>26.292799</td>\n",
       "      <td>3170</td>\n",
       "      <td>0.011020</td>\n",
       "    </tr>\n",
       "    <tr>\n",
       "      <th>Low-</th>\n",
       "      <td>3140</td>\n",
       "      <td>24.183470</td>\n",
       "      <td>3140</td>\n",
       "      <td>-0.011171</td>\n",
       "    </tr>\n",
       "  </tbody>\n",
       "</table>\n",
       "</div>"
      ],
      "text/plain": [
       "         Adj Close            one-day percent change          \n",
       "              size       mean                   size      mean\n",
       "category                                                      \n",
       "0              366   1.555968                    366  0.000000\n",
       "High+         1391   8.652295                   1391  0.045705\n",
       "High-         1210   8.289065                   1210 -0.044220\n",
       "Low+          3170  26.292799                   3170  0.011020\n",
       "Low-          3140  24.183470                   3140 -0.011171"
      ]
     },
     "execution_count": 10,
     "metadata": {},
     "output_type": "execute_result"
    }
   ],
   "source": [
    "#report size and mean\n",
    "GroupColFunc(df)"
   ]
  },
  {
   "cell_type": "markdown",
   "metadata": {},
   "source": [
    "Write a program that can choose decade and report the size and the mean of each group in dataframe\n",
    "<li>Adds a column 'Decade' to the file (use first three numbers to be value of the decade ex. value for 1980-1989 is '198')  \n",
    "<li>Write a function that have data from a file with decade column and decade as input\n",
    "<li>Call function that you create in the first part to group the data\n",
    "<li>Return dataframe of mean and size for each group of that decade"
   ]
  },
  {
   "cell_type": "code",
   "execution_count": 11,
   "metadata": {},
   "outputs": [
    {
     "name": "stdout",
     "output_type": "stream",
     "text": [
      "            Date   Adj Close  one-day percent change Decade\n",
      "0     1980-12-12    0.421597                     NaN    198\n",
      "1     1980-12-15    0.399601               -0.052173    198\n",
      "2     1980-12-16    0.370272               -0.073396    198\n",
      "3     1980-12-17    0.379437                0.024752    198\n",
      "4     1980-12-18    0.390436                0.028988    198\n",
      "...          ...         ...                     ...    ...\n",
      "9273  2017-09-20  156.070007               -0.016758    201\n",
      "9274  2017-09-21  153.389999               -0.017172    201\n",
      "9275  2017-09-22  151.889999               -0.009779    201\n",
      "9276  2017-09-25  150.550003               -0.008822    201\n",
      "9277  2017-09-26  153.139999                0.017204    201\n",
      "\n",
      "[9278 rows x 4 columns]\n"
     ]
    }
   ],
   "source": [
    "#adds column 'Decade'\n",
    "df['Decade']=0\n",
    "for i in df.index:\n",
    "    df.loc[i,'Decade']=str(df.loc[i,'Date'])[:3]\n",
    "print(df)"
   ]
  },
  {
   "cell_type": "code",
   "execution_count": 12,
   "metadata": {},
   "outputs": [],
   "source": [
    "def report_decade(df2,decade):\n",
    "    #Your code goes here\n",
    "    result=df2[df2['Decade']==decade]\n",
    "    return GroupColFunc(result)"
   ]
  },
  {
   "cell_type": "code",
   "execution_count": 13,
   "metadata": {},
   "outputs": [
    {
     "name": "stderr",
     "output_type": "stream",
     "text": [
      "C:\\Users\\lfh\\AppData\\Local\\Temp\\ipykernel_22652\\3870347037.py:17: FutureWarning: Indexing with multiple keys (implicitly converted to a tuple of keys) will be deprecated, use a list instead.\n",
      "  grouped_result=df1.groupby('category')['Adj Close','one-day percent change'].agg([np.size, np.mean])\n"
     ]
    },
    {
     "data": {
      "text/html": [
       "<div>\n",
       "<style scoped>\n",
       "    .dataframe tbody tr th:only-of-type {\n",
       "        vertical-align: middle;\n",
       "    }\n",
       "\n",
       "    .dataframe tbody tr th {\n",
       "        vertical-align: top;\n",
       "    }\n",
       "\n",
       "    .dataframe thead tr th {\n",
       "        text-align: left;\n",
       "    }\n",
       "\n",
       "    .dataframe thead tr:last-of-type th {\n",
       "        text-align: right;\n",
       "    }\n",
       "</style>\n",
       "<table border=\"1\" class=\"dataframe\">\n",
       "  <thead>\n",
       "    <tr>\n",
       "      <th></th>\n",
       "      <th colspan=\"2\" halign=\"left\">Adj Close</th>\n",
       "      <th colspan=\"2\" halign=\"left\">one-day percent change</th>\n",
       "    </tr>\n",
       "    <tr>\n",
       "      <th></th>\n",
       "      <th>size</th>\n",
       "      <th>mean</th>\n",
       "      <th>size</th>\n",
       "      <th>mean</th>\n",
       "    </tr>\n",
       "    <tr>\n",
       "      <th>category</th>\n",
       "      <th></th>\n",
       "      <th></th>\n",
       "      <th></th>\n",
       "      <th></th>\n",
       "    </tr>\n",
       "  </thead>\n",
       "  <tbody>\n",
       "    <tr>\n",
       "      <th>0</th>\n",
       "      <td>193</td>\n",
       "      <td>0.619043</td>\n",
       "      <td>193</td>\n",
       "      <td>0.000000</td>\n",
       "    </tr>\n",
       "    <tr>\n",
       "      <th>High+</th>\n",
       "      <td>404</td>\n",
       "      <td>0.607085</td>\n",
       "      <td>404</td>\n",
       "      <td>0.046111</td>\n",
       "    </tr>\n",
       "    <tr>\n",
       "      <th>High-</th>\n",
       "      <td>350</td>\n",
       "      <td>0.582490</td>\n",
       "      <td>350</td>\n",
       "      <td>-0.045644</td>\n",
       "    </tr>\n",
       "    <tr>\n",
       "      <th>Low+</th>\n",
       "      <td>657</td>\n",
       "      <td>0.725060</td>\n",
       "      <td>657</td>\n",
       "      <td>0.012576</td>\n",
       "    </tr>\n",
       "    <tr>\n",
       "      <th>Low-</th>\n",
       "      <td>683</td>\n",
       "      <td>0.687610</td>\n",
       "      <td>683</td>\n",
       "      <td>-0.012965</td>\n",
       "    </tr>\n",
       "  </tbody>\n",
       "</table>\n",
       "</div>"
      ],
      "text/plain": [
       "         Adj Close           one-day percent change          \n",
       "              size      mean                   size      mean\n",
       "category                                                     \n",
       "0              193  0.619043                    193  0.000000\n",
       "High+          404  0.607085                    404  0.046111\n",
       "High-          350  0.582490                    350 -0.045644\n",
       "Low+           657  0.725060                    657  0.012576\n",
       "Low-           683  0.687610                    683 -0.012965"
      ]
     },
     "execution_count": 13,
     "metadata": {},
     "output_type": "execute_result"
    }
   ],
   "source": [
    "#Test\n",
    "report_decade(df,'198')"
   ]
  },
  {
   "cell_type": "code",
   "execution_count": null,
   "metadata": {},
   "outputs": [],
   "source": []
  }
 ],
 "metadata": {
  "kernelspec": {
   "display_name": "Python 3 (ipykernel)",
   "language": "python",
   "name": "python3"
  },
  "language_info": {
   "codemirror_mode": {
    "name": "ipython",
    "version": 3
   },
   "file_extension": ".py",
   "mimetype": "text/x-python",
   "name": "python",
   "nbconvert_exporter": "python",
   "pygments_lexer": "ipython3",
   "version": "3.9.12"
  }
 },
 "nbformat": 4,
 "nbformat_minor": 2
}
