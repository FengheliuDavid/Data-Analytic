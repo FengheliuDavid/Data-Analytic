{
 "cells": [
  {
   "cell_type": "markdown",
   "metadata": {},
   "source": [
    "<h1>Numpy and Pandas Home Assignment</h1>\n",
    "In this assignment, we will use pandas and numpy to do some fairly basic analysis on equities."
   ]
  },
  {
   "cell_type": "markdown",
   "metadata": {},
   "source": [
    "<h3>Imports</h3>"
   ]
  },
  {
   "cell_type": "code",
   "execution_count": 1,
   "metadata": {},
   "outputs": [],
   "source": [
    "import datetime\n",
    "import numpy as np\n",
    "import pandas as pd\n",
    "%matplotlib inline\n",
    "import yfinance as yf\n",
    "import pandas_datareader.data as web\n"
   ]
  },
  {
   "cell_type": "markdown",
   "metadata": {},
   "source": [
    "<h3>Get data on the following four stocks from yahoo finance</h3>\n",
    "<li>MS, GS, JPM, C\n",
    "<li>Use the date range 2013/1/1/ to 2018/9/24"
   ]
  },
  {
   "cell_type": "code",
   "execution_count": 2,
   "metadata": {},
   "outputs": [
    {
     "name": "stdout",
     "output_type": "stream",
     "text": [
      "Symbols            MS          GS         JPM          C\n",
      "Date                                                    \n",
      "2013-01-02  19.620001  131.660004   44.660000  41.250000\n",
      "2013-01-03  19.580000  130.940002   44.570000  41.389999\n",
      "2013-01-04  20.190001  134.509995   45.360001  42.430000\n",
      "2013-01-07  19.799999  134.259995   45.410000  42.470001\n",
      "2013-01-08  19.650000  133.050003   45.500000  42.459999\n",
      "...               ...         ...         ...        ...\n",
      "2018-09-18  47.849998  228.889999  114.300003  71.360001\n",
      "2018-09-19  49.099998  235.580002  117.620003  73.720001\n",
      "2018-09-20  49.880001  237.399994  118.629997  74.790001\n",
      "2018-09-21  49.410000  235.339996  117.849998  74.150002\n",
      "2018-09-24  48.560001  232.899994  116.720001  73.839996\n",
      "\n",
      "[1443 rows x 4 columns]\n"
     ]
    }
   ],
   "source": [
    "start=datetime.datetime(2013,1,1)\n",
    "end=datetime.datetime(2018,9,24)\n",
    "df=web.DataReader(['MS','GS','JPM','C'],'yahoo', start, end)['Close']\n",
    "print(df)"
   ]
  },
  {
   "cell_type": "markdown",
   "metadata": {},
   "source": [
    "<h3>Compute the cross correlation coefficients on the stocks</h3>\n",
    "<li>Create a df 'rets' with the one day percentage changes using the column 'close'\n",
    "<li>Calculate cross correlations on the rets df"
   ]
  },
  {
   "cell_type": "code",
   "execution_count": 3,
   "metadata": {},
   "outputs": [
    {
     "name": "stdout",
     "output_type": "stream",
     "text": [
      "Symbols           MS        GS       JPM         C\n",
      "Date                                              \n",
      "2013-01-02       NaN       NaN       NaN       NaN\n",
      "2013-01-03 -0.002039 -0.005469 -0.002015  0.003394\n",
      "2013-01-04  0.031154  0.027264  0.017725  0.025127\n",
      "2013-01-07 -0.019317 -0.001859  0.001102  0.000943\n",
      "2013-01-08 -0.007576 -0.009012  0.001982 -0.000236\n",
      "...              ...       ...       ...       ...\n",
      "2018-09-18  0.003565  0.004388  0.004041  0.006772\n",
      "2018-09-19  0.026123  0.029228  0.029046  0.033072\n",
      "2018-09-20  0.015886  0.007726  0.008587  0.014514\n",
      "2018-09-21 -0.009423 -0.008677 -0.006575 -0.008557\n",
      "2018-09-24 -0.017203 -0.010368 -0.009588 -0.004181\n",
      "\n",
      "[1443 rows x 4 columns]\n",
      "Symbols        MS        GS       JPM         C\n",
      "Symbols                                        \n",
      "MS       1.000000  0.844340  0.801232  0.809949\n",
      "GS       0.844340  1.000000  0.813289  0.792073\n",
      "JPM      0.801232  0.813289  1.000000  0.849607\n",
      "C        0.809949  0.792073  0.849607  1.000000\n"
     ]
    }
   ],
   "source": [
    "rets=df.pct_change()\n",
    "print(rets)\n",
    "rets_cor=rets.iloc[1:].corr()\n",
    "print(rets_cor)"
   ]
  },
  {
   "cell_type": "markdown",
   "metadata": {},
   "source": [
    "<h3>Select a pair of stocks to trade</h3>\n",
    "<li>Choose the pair with the highest correlation\n",
    "<li>You can just eyeball the result and pick the highest correlation pairs\n",
    "<li>Create a new df 'pairs' with the returns columns of the highest correlation pairs"
   ]
  },
  {
   "cell_type": "code",
   "execution_count": 4,
   "metadata": {},
   "outputs": [
    {
     "name": "stdout",
     "output_type": "stream",
     "text": [
      "Symbols          JPM         C\n",
      "Date                          \n",
      "2013-01-02       NaN       NaN\n",
      "2013-01-03 -0.002015  0.003394\n",
      "2013-01-04  0.017725  0.025127\n",
      "2013-01-07  0.001102  0.000943\n",
      "2013-01-08  0.001982 -0.000236\n",
      "...              ...       ...\n",
      "2018-09-18  0.004041  0.006772\n",
      "2018-09-19  0.029046  0.033072\n",
      "2018-09-20  0.008587  0.014514\n",
      "2018-09-21 -0.006575 -0.008557\n",
      "2018-09-24 -0.009588 -0.004181\n",
      "\n",
      "[1443 rows x 2 columns]\n"
     ]
    }
   ],
   "source": [
    "# trade JPM and C, because have the highest corr\n",
    "pairs=rets[['JPM','C']]\n",
    "print(pairs)"
   ]
  },
  {
   "cell_type": "markdown",
   "metadata": {},
   "source": [
    "<h3>Calculate the mean and std dev of the columns (returns of the two stocks)</h3>\n",
    "<li>Note that line 1 contains a NaN. You'll have to get rid of this line\n",
    "<li>df.describe() returns summary stats for all cols in a dataframe. You can use this to extract means and standard deviations"
   ]
  },
  {
   "cell_type": "code",
   "execution_count": 5,
   "metadata": {},
   "outputs": [
    {
     "name": "stdout",
     "output_type": "stream",
     "text": [
      "std of C and JPM:  0.014852989436757653 0.012828759567116524\n",
      "mean of C and JPM:  0.0005143540975771446 0.0007486536257219457\n"
     ]
    }
   ],
   "source": [
    "#C and JPM\n",
    "new_df = rets[['C','JPM']].iloc[1:]\n",
    "c_std = new_df.describe()['C']['std']\n",
    "j_std = new_df.describe()['JPM']['std']\n",
    "c_mean = new_df.describe()['C']['mean']\n",
    "j_mean = new_df.describe()['JPM']['mean']\n",
    "print('std of C and JPM: ',c_std, j_std)\n",
    "print('mean of C and JPM: ', c_mean, j_mean)"
   ]
  },
  {
   "cell_type": "markdown",
   "metadata": {},
   "source": [
    "<h3>Create a new column \"Long_JPM_Short_C\"</h3>\n",
    "<li>If the return of C is greater than its mean + 0.25* std\n",
    "<li> AND\n",
    "<li>If the return of JPM is less than its mean - 0.25*std\n",
    "<li>The value in this col should be True or False"
   ]
  },
  {
   "cell_type": "code",
   "execution_count": 6,
   "metadata": {},
   "outputs": [
    {
     "name": "stdout",
     "output_type": "stream",
     "text": [
      "Symbols          JPM         C  Long_JPM_Short_C\n",
      "Date                                            \n",
      "2013-01-02       NaN       NaN             False\n",
      "2013-01-03 -0.002015  0.003394             False\n",
      "2013-01-04  0.017725  0.025127             False\n",
      "2013-01-07  0.001102  0.000943             False\n",
      "2013-01-08  0.001982 -0.000236             False\n",
      "...              ...       ...               ...\n",
      "2018-09-18  0.004041  0.006772             False\n",
      "2018-09-19  0.029046  0.033072             False\n",
      "2018-09-20  0.008587  0.014514             False\n",
      "2018-09-21 -0.006575 -0.008557             False\n",
      "2018-09-24 -0.009588 -0.004181             False\n",
      "\n",
      "[1443 rows x 3 columns]\n"
     ]
    }
   ],
   "source": [
    "pairs=pairs.copy()\n",
    "pairs['Long_JPM_Short_C']=np.where((pairs['C']>c_mean+0.25*c_std) & (pairs['JPM']<j_mean-0.25*j_std), True, False)\n",
    "print(pairs)"
   ]
  },
  {
   "cell_type": "markdown",
   "metadata": {},
   "source": [
    "<h3>Create a new column \"Long_C_Short_JPM\"</h3>\n",
    "<li>If the return of JPM is greater than its mean + 0.25* std\n",
    "<li> AND\n",
    "<li>If the return of C is less than its mean - 0.25*std\n",
    "<li>The value in this col should be True or False"
   ]
  },
  {
   "cell_type": "code",
   "execution_count": 7,
   "metadata": {},
   "outputs": [
    {
     "name": "stdout",
     "output_type": "stream",
     "text": [
      "Symbols          JPM         C  Long_JPM_Short_C  Long_C_Short_JPM\n",
      "Date                                                              \n",
      "2013-01-02       NaN       NaN             False             False\n",
      "2013-01-03 -0.002015  0.003394             False             False\n",
      "2013-01-04  0.017725  0.025127             False             False\n",
      "2013-01-07  0.001102  0.000943             False             False\n",
      "2013-01-08  0.001982 -0.000236             False             False\n",
      "...              ...       ...               ...               ...\n",
      "2018-09-18  0.004041  0.006772             False             False\n",
      "2018-09-19  0.029046  0.033072             False             False\n",
      "2018-09-20  0.008587  0.014514             False             False\n",
      "2018-09-21 -0.006575 -0.008557             False             False\n",
      "2018-09-24 -0.009588 -0.004181             False             False\n",
      "\n",
      "[1443 rows x 4 columns]\n"
     ]
    }
   ],
   "source": [
    "pairs=pairs.copy()\n",
    "pairs['Long_C_Short_JPM']=np.where((pairs['JPM']>j_mean+0.25*j_std)&(pairs['C']<c_mean-0.25*c_std), True, False)\n",
    "print(pairs)"
   ]
  },
  {
   "cell_type": "markdown",
   "metadata": {},
   "source": [
    "<h3>Create a new column \"Trade_return\"</h3>\n",
    "<li>If Long_JPM_Short_C is True and Long_C_Short_JPM is False, the value of this column should be the return on JPM minus the return on C\n",
    "<li>If Long_JPM_Short_C is False and Long_C_Short_JPM is True, the value of this column should be the return on C minus the return on JPM\n",
    "<li>Otherwise the value should be zero"
   ]
  },
  {
   "cell_type": "code",
   "execution_count": 8,
   "metadata": {},
   "outputs": [
    {
     "name": "stdout",
     "output_type": "stream",
     "text": [
      "Symbols          JPM         C  Long_JPM_Short_C  Long_C_Short_JPM  \\\n",
      "Date                                                                 \n",
      "2013-01-02       NaN       NaN             False             False   \n",
      "2013-01-03 -0.002015  0.003394             False             False   \n",
      "2013-01-04  0.017725  0.025127             False             False   \n",
      "2013-01-07  0.001102  0.000943             False             False   \n",
      "2013-01-08  0.001982 -0.000236             False             False   \n",
      "...              ...       ...               ...               ...   \n",
      "2018-09-18  0.004041  0.006772             False             False   \n",
      "2018-09-19  0.029046  0.033072             False             False   \n",
      "2018-09-20  0.008587  0.014514             False             False   \n",
      "2018-09-21 -0.006575 -0.008557             False             False   \n",
      "2018-09-24 -0.009588 -0.004181             False             False   \n",
      "\n",
      "Symbols     Trade_return  \n",
      "Date                      \n",
      "2013-01-02           0.0  \n",
      "2013-01-03           0.0  \n",
      "2013-01-04           0.0  \n",
      "2013-01-07           0.0  \n",
      "2013-01-08           0.0  \n",
      "...                  ...  \n",
      "2018-09-18           0.0  \n",
      "2018-09-19           0.0  \n",
      "2018-09-20           0.0  \n",
      "2018-09-21           0.0  \n",
      "2018-09-24           0.0  \n",
      "\n",
      "[1443 rows x 5 columns]\n"
     ]
    }
   ],
   "source": [
    "pairs=pairs.copy()\n",
    "pairs['Trade_return'] = 0\n",
    "for i in pairs.index:\n",
    "    if pairs.loc[i,'Long_JPM_Short_C']==True and pairs.loc[i,'Long_C_Short_JPM']==False:\n",
    "        pairs.loc[i,'Trade_return']= pairs.loc[i,'JPM']-pairs.loc[i,'C']\n",
    "    elif pairs.loc[i,'Long_JPM_Short_C']==False and pairs.loc[i,'Long_C_Short_JPM']==True:\n",
    "        pairs.loc[i,'Trade_return']= pairs.loc[i,'C']-pairs.loc[i,'JPM']\n",
    "    \n",
    "print(pairs)"
   ]
  },
  {
   "cell_type": "markdown",
   "metadata": {},
   "source": [
    "<h3>Calculate the sum of this new column</h3>\n",
    "<li>Are you going to get rich?"
   ]
  },
  {
   "cell_type": "code",
   "execution_count": 9,
   "metadata": {},
   "outputs": [
    {
     "name": "stdout",
     "output_type": "stream",
     "text": [
      "-0.6793516982785628\n"
     ]
    }
   ],
   "source": [
    "print(pairs['Trade_return'].sum())"
   ]
  },
  {
   "cell_type": "markdown",
   "metadata": {},
   "source": [
    "<h3>Calculate the trade_return per year and per month</h3>\n",
    "<li>Which year has the highest total returns/lowest losses?\n",
    "<li>Which months in the year did you suffer a loss?\n",
    "    \n",
    "<h4> Note: loops will not be accepted"
   ]
  },
  {
   "cell_type": "code",
   "execution_count": 14,
   "metadata": {},
   "outputs": [
    {
     "name": "stdout",
     "output_type": "stream",
     "text": [
      "lowest losses year:  2015\n",
      "months that suffer a loss:  [4, 10]\n"
     ]
    }
   ],
   "source": [
    "pairs=pairs.copy()\n",
    "pairs['year']=pairs.index.year\n",
    "pairs['month']=pairs.index.month\n",
    "year_grouped=pd.DataFrame(pairs.groupby('year')['Trade_return'].sum())\n",
    "year_grouped.columns=['return']\n",
    "year_grouped= year_grouped.sort_values(by='return' ,ascending=False) \n",
    "print('lowest losses year: ',year_grouped.index[0])\n",
    "\n",
    "specificyear= pairs.loc[pairs['year'] == year_grouped.index[0]]\n",
    "month_grouped=pd.DataFrame(specificyear.groupby('month')['Trade_return'].sum())\n",
    "month_grouped.columns=['return']\n",
    "loss_month=month_grouped.loc[month_grouped['return']<0]\n",
    "print('months that suffer a loss: ', list(loss_month.index))"
   ]
  },
  {
   "cell_type": "code",
   "execution_count": null,
   "metadata": {},
   "outputs": [],
   "source": []
  }
 ],
 "metadata": {
  "kernelspec": {
   "display_name": "Python 3 (ipykernel)",
   "language": "python",
   "name": "python3"
  },
  "language_info": {
   "codemirror_mode": {
    "name": "ipython",
    "version": 3
   },
   "file_extension": ".py",
   "mimetype": "text/x-python",
   "name": "python",
   "nbconvert_exporter": "python",
   "pygments_lexer": "ipython3",
   "version": "3.9.12"
  }
 },
 "nbformat": 4,
 "nbformat_minor": 2
}
