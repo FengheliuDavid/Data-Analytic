{
 "cells": [
  {
   "cell_type": "markdown",
   "metadata": {},
   "source": [
    "<h1>Citibike Network Assignment</h1>\n",
    "<li>The file, 201809-citibike-tripdata.csv, contains citibike trip data from September 2018 (a reasonable sized file!)\n",
    "<li>The data:<br>\n",
    "\"tripduration\",\"starttime\",\"stoptime\",\"start station id\",\"start station name\",\"start station latitude\",\"start station longitude\",\"end station id\",\"end station name\",\"end station latitude\",\"end station longitude\",\"bikeid\",\"usertype\",\"birth year\",\"gender\"\n",
    "<li>Each record in the data is a trip \n",
    "<li>The data is described at https://www.citibikenyc.com/system-data"
   ]
  },
  {
   "cell_type": "markdown",
   "metadata": {},
   "source": [
    "<h1>STEP 1: Read the data into a dataframe</h1>\n",
    "<li>Convert station ids to str if necessary"
   ]
  },
  {
   "cell_type": "code",
   "execution_count": 1,
   "metadata": {},
   "outputs": [],
   "source": [
    "import pandas as pd\n",
    "import numpy as np\n",
    "import networkx as nx\n",
    "datafile = '201801-citibike-tripdata.csv'\n",
    "df = pd.read_csv(datafile)\n"
   ]
  },
  {
   "cell_type": "code",
   "execution_count": 2,
   "metadata": {},
   "outputs": [
    {
     "data": {
      "text/plain": [
       "Index(['tripduration', 'starttime', 'stoptime', 'start station id',\n",
       "       'start station name', 'start station latitude',\n",
       "       'start station longitude', 'end station id', 'end station name',\n",
       "       'end station latitude', 'end station longitude', 'bikeid', 'usertype',\n",
       "       'birth year', 'gender'],\n",
       "      dtype='object')"
      ]
     },
     "execution_count": 2,
     "metadata": {},
     "output_type": "execute_result"
    }
   ],
   "source": [
    "df.columns"
   ]
  },
  {
   "cell_type": "markdown",
   "metadata": {},
   "source": [
    "<h1>STEP 2: Basic cleaning</h1>\n",
    "<li>Remove data that have any nans in any row (none in this file but others do have nans)\n",
    "<li>And convert stationids to str "
   ]
  },
  {
   "cell_type": "code",
   "execution_count": 3,
   "metadata": {},
   "outputs": [
    {
     "data": {
      "text/html": [
       "<div>\n",
       "<style scoped>\n",
       "    .dataframe tbody tr th:only-of-type {\n",
       "        vertical-align: middle;\n",
       "    }\n",
       "\n",
       "    .dataframe tbody tr th {\n",
       "        vertical-align: top;\n",
       "    }\n",
       "\n",
       "    .dataframe thead th {\n",
       "        text-align: right;\n",
       "    }\n",
       "</style>\n",
       "<table border=\"1\" class=\"dataframe\">\n",
       "  <thead>\n",
       "    <tr style=\"text-align: right;\">\n",
       "      <th></th>\n",
       "      <th>tripduration</th>\n",
       "      <th>starttime</th>\n",
       "      <th>stoptime</th>\n",
       "      <th>start station id</th>\n",
       "      <th>start station name</th>\n",
       "      <th>start station latitude</th>\n",
       "      <th>start station longitude</th>\n",
       "      <th>end station id</th>\n",
       "      <th>end station name</th>\n",
       "      <th>end station latitude</th>\n",
       "      <th>end station longitude</th>\n",
       "      <th>bikeid</th>\n",
       "      <th>usertype</th>\n",
       "      <th>birth year</th>\n",
       "      <th>gender</th>\n",
       "    </tr>\n",
       "  </thead>\n",
       "  <tbody>\n",
       "    <tr>\n",
       "      <th>0</th>\n",
       "      <td>970</td>\n",
       "      <td>50:57.4</td>\n",
       "      <td>07:08.2</td>\n",
       "      <td>72</td>\n",
       "      <td>W 52 St &amp; 11 Ave</td>\n",
       "      <td>40.767272</td>\n",
       "      <td>-73.993929</td>\n",
       "      <td>505</td>\n",
       "      <td>6 Ave &amp; W 33 St</td>\n",
       "      <td>40.749013</td>\n",
       "      <td>-73.988484</td>\n",
       "      <td>31956</td>\n",
       "      <td>Subscriber</td>\n",
       "      <td>1992</td>\n",
       "      <td>1</td>\n",
       "    </tr>\n",
       "    <tr>\n",
       "      <th>1</th>\n",
       "      <td>723</td>\n",
       "      <td>33:30.2</td>\n",
       "      <td>45:33.3</td>\n",
       "      <td>72</td>\n",
       "      <td>W 52 St &amp; 11 Ave</td>\n",
       "      <td>40.767272</td>\n",
       "      <td>-73.993929</td>\n",
       "      <td>3255</td>\n",
       "      <td>8 Ave &amp; W 31 St</td>\n",
       "      <td>40.750585</td>\n",
       "      <td>-73.994685</td>\n",
       "      <td>32536</td>\n",
       "      <td>Subscriber</td>\n",
       "      <td>1969</td>\n",
       "      <td>1</td>\n",
       "    </tr>\n",
       "    <tr>\n",
       "      <th>2</th>\n",
       "      <td>496</td>\n",
       "      <td>39:18.3</td>\n",
       "      <td>47:35.2</td>\n",
       "      <td>72</td>\n",
       "      <td>W 52 St &amp; 11 Ave</td>\n",
       "      <td>40.767272</td>\n",
       "      <td>-73.993929</td>\n",
       "      <td>525</td>\n",
       "      <td>W 34 St &amp; 11 Ave</td>\n",
       "      <td>40.755942</td>\n",
       "      <td>-74.002116</td>\n",
       "      <td>16069</td>\n",
       "      <td>Subscriber</td>\n",
       "      <td>1956</td>\n",
       "      <td>1</td>\n",
       "    </tr>\n",
       "    <tr>\n",
       "      <th>3</th>\n",
       "      <td>306</td>\n",
       "      <td>40:13.4</td>\n",
       "      <td>45:20.2</td>\n",
       "      <td>72</td>\n",
       "      <td>W 52 St &amp; 11 Ave</td>\n",
       "      <td>40.767272</td>\n",
       "      <td>-73.993929</td>\n",
       "      <td>447</td>\n",
       "      <td>8 Ave &amp; W 52 St</td>\n",
       "      <td>40.763707</td>\n",
       "      <td>-73.985162</td>\n",
       "      <td>31781</td>\n",
       "      <td>Subscriber</td>\n",
       "      <td>1974</td>\n",
       "      <td>1</td>\n",
       "    </tr>\n",
       "    <tr>\n",
       "      <th>4</th>\n",
       "      <td>306</td>\n",
       "      <td>14:51.6</td>\n",
       "      <td>19:57.6</td>\n",
       "      <td>72</td>\n",
       "      <td>W 52 St &amp; 11 Ave</td>\n",
       "      <td>40.767272</td>\n",
       "      <td>-73.993929</td>\n",
       "      <td>3356</td>\n",
       "      <td>Amsterdam Ave &amp; W 66 St</td>\n",
       "      <td>40.774667</td>\n",
       "      <td>-73.984706</td>\n",
       "      <td>30319</td>\n",
       "      <td>Subscriber</td>\n",
       "      <td>1992</td>\n",
       "      <td>1</td>\n",
       "    </tr>\n",
       "    <tr>\n",
       "      <th>...</th>\n",
       "      <td>...</td>\n",
       "      <td>...</td>\n",
       "      <td>...</td>\n",
       "      <td>...</td>\n",
       "      <td>...</td>\n",
       "      <td>...</td>\n",
       "      <td>...</td>\n",
       "      <td>...</td>\n",
       "      <td>...</td>\n",
       "      <td>...</td>\n",
       "      <td>...</td>\n",
       "      <td>...</td>\n",
       "      <td>...</td>\n",
       "      <td>...</td>\n",
       "      <td>...</td>\n",
       "    </tr>\n",
       "    <tr>\n",
       "      <th>718989</th>\n",
       "      <td>843</td>\n",
       "      <td>28:27.5</td>\n",
       "      <td>42:30.6</td>\n",
       "      <td>3664</td>\n",
       "      <td>North Moore St &amp; Greenwich St</td>\n",
       "      <td>40.720195</td>\n",
       "      <td>-74.010301</td>\n",
       "      <td>410</td>\n",
       "      <td>Suffolk St &amp; Stanton St</td>\n",
       "      <td>40.720664</td>\n",
       "      <td>-73.985180</td>\n",
       "      <td>15153</td>\n",
       "      <td>Subscriber</td>\n",
       "      <td>1981</td>\n",
       "      <td>1</td>\n",
       "    </tr>\n",
       "    <tr>\n",
       "      <th>718990</th>\n",
       "      <td>244</td>\n",
       "      <td>34:20.5</td>\n",
       "      <td>38:24.7</td>\n",
       "      <td>3664</td>\n",
       "      <td>North Moore St &amp; Greenwich St</td>\n",
       "      <td>40.720195</td>\n",
       "      <td>-74.010301</td>\n",
       "      <td>327</td>\n",
       "      <td>Vesey Pl &amp; River Terrace</td>\n",
       "      <td>40.715338</td>\n",
       "      <td>-74.016584</td>\n",
       "      <td>26896</td>\n",
       "      <td>Subscriber</td>\n",
       "      <td>1960</td>\n",
       "      <td>1</td>\n",
       "    </tr>\n",
       "    <tr>\n",
       "      <th>718991</th>\n",
       "      <td>302</td>\n",
       "      <td>20:55.5</td>\n",
       "      <td>25:58.3</td>\n",
       "      <td>3664</td>\n",
       "      <td>North Moore St &amp; Greenwich St</td>\n",
       "      <td>40.720195</td>\n",
       "      <td>-74.010301</td>\n",
       "      <td>327</td>\n",
       "      <td>Vesey Pl &amp; River Terrace</td>\n",
       "      <td>40.715338</td>\n",
       "      <td>-74.016584</td>\n",
       "      <td>33111</td>\n",
       "      <td>Subscriber</td>\n",
       "      <td>1965</td>\n",
       "      <td>1</td>\n",
       "    </tr>\n",
       "    <tr>\n",
       "      <th>718992</th>\n",
       "      <td>222</td>\n",
       "      <td>47:42.6</td>\n",
       "      <td>51:24.7</td>\n",
       "      <td>3664</td>\n",
       "      <td>North Moore St &amp; Greenwich St</td>\n",
       "      <td>40.720195</td>\n",
       "      <td>-74.010301</td>\n",
       "      <td>257</td>\n",
       "      <td>Lispenard St &amp; Broadway</td>\n",
       "      <td>40.719392</td>\n",
       "      <td>-74.002472</td>\n",
       "      <td>16675</td>\n",
       "      <td>Subscriber</td>\n",
       "      <td>1969</td>\n",
       "      <td>0</td>\n",
       "    </tr>\n",
       "    <tr>\n",
       "      <th>718993</th>\n",
       "      <td>713</td>\n",
       "      <td>35:55.5</td>\n",
       "      <td>47:48.6</td>\n",
       "      <td>3664</td>\n",
       "      <td>North Moore St &amp; Greenwich St</td>\n",
       "      <td>40.720195</td>\n",
       "      <td>-74.010301</td>\n",
       "      <td>280</td>\n",
       "      <td>E 10 St &amp; 5 Ave</td>\n",
       "      <td>40.733320</td>\n",
       "      <td>-73.995101</td>\n",
       "      <td>17928</td>\n",
       "      <td>Subscriber</td>\n",
       "      <td>1991</td>\n",
       "      <td>1</td>\n",
       "    </tr>\n",
       "  </tbody>\n",
       "</table>\n",
       "<p>718994 rows × 15 columns</p>\n",
       "</div>"
      ],
      "text/plain": [
       "        tripduration starttime stoptime  start station id  \\\n",
       "0                970   50:57.4  07:08.2                72   \n",
       "1                723   33:30.2  45:33.3                72   \n",
       "2                496   39:18.3  47:35.2                72   \n",
       "3                306   40:13.4  45:20.2                72   \n",
       "4                306   14:51.6  19:57.6                72   \n",
       "...              ...       ...      ...               ...   \n",
       "718989           843   28:27.5  42:30.6              3664   \n",
       "718990           244   34:20.5  38:24.7              3664   \n",
       "718991           302   20:55.5  25:58.3              3664   \n",
       "718992           222   47:42.6  51:24.7              3664   \n",
       "718993           713   35:55.5  47:48.6              3664   \n",
       "\n",
       "                   start station name  start station latitude  \\\n",
       "0                    W 52 St & 11 Ave               40.767272   \n",
       "1                    W 52 St & 11 Ave               40.767272   \n",
       "2                    W 52 St & 11 Ave               40.767272   \n",
       "3                    W 52 St & 11 Ave               40.767272   \n",
       "4                    W 52 St & 11 Ave               40.767272   \n",
       "...                               ...                     ...   \n",
       "718989  North Moore St & Greenwich St               40.720195   \n",
       "718990  North Moore St & Greenwich St               40.720195   \n",
       "718991  North Moore St & Greenwich St               40.720195   \n",
       "718992  North Moore St & Greenwich St               40.720195   \n",
       "718993  North Moore St & Greenwich St               40.720195   \n",
       "\n",
       "        start station longitude  end station id          end station name  \\\n",
       "0                    -73.993929             505           6 Ave & W 33 St   \n",
       "1                    -73.993929            3255           8 Ave & W 31 St   \n",
       "2                    -73.993929             525          W 34 St & 11 Ave   \n",
       "3                    -73.993929             447           8 Ave & W 52 St   \n",
       "4                    -73.993929            3356   Amsterdam Ave & W 66 St   \n",
       "...                         ...             ...                       ...   \n",
       "718989               -74.010301             410   Suffolk St & Stanton St   \n",
       "718990               -74.010301             327  Vesey Pl & River Terrace   \n",
       "718991               -74.010301             327  Vesey Pl & River Terrace   \n",
       "718992               -74.010301             257   Lispenard St & Broadway   \n",
       "718993               -74.010301             280           E 10 St & 5 Ave   \n",
       "\n",
       "        end station latitude  end station longitude  bikeid    usertype  \\\n",
       "0                  40.749013             -73.988484   31956  Subscriber   \n",
       "1                  40.750585             -73.994685   32536  Subscriber   \n",
       "2                  40.755942             -74.002116   16069  Subscriber   \n",
       "3                  40.763707             -73.985162   31781  Subscriber   \n",
       "4                  40.774667             -73.984706   30319  Subscriber   \n",
       "...                      ...                    ...     ...         ...   \n",
       "718989             40.720664             -73.985180   15153  Subscriber   \n",
       "718990             40.715338             -74.016584   26896  Subscriber   \n",
       "718991             40.715338             -74.016584   33111  Subscriber   \n",
       "718992             40.719392             -74.002472   16675  Subscriber   \n",
       "718993             40.733320             -73.995101   17928  Subscriber   \n",
       "\n",
       "        birth year  gender  \n",
       "0             1992       1  \n",
       "1             1969       1  \n",
       "2             1956       1  \n",
       "3             1974       1  \n",
       "4             1992       1  \n",
       "...            ...     ...  \n",
       "718989        1981       1  \n",
       "718990        1960       1  \n",
       "718991        1965       1  \n",
       "718992        1969       0  \n",
       "718993        1991       1  \n",
       "\n",
       "[718994 rows x 15 columns]"
      ]
     },
     "execution_count": 3,
     "metadata": {},
     "output_type": "execute_result"
    }
   ],
   "source": [
    "df.dropna()"
   ]
  },
  {
   "cell_type": "markdown",
   "metadata": {},
   "source": [
    "<h1>STEP 3: Write a function that returns a graph given a citibike data frame</h1> \n",
    "<li>Your function should return two things:\n",
    "<ol>\n",
    "<li>a graph\n",
    "<li>a dictionary with station ids as the key and station name as the value\n",
    "</ol>\n",
    "<li>The graph should contain \n",
    "<ol>\n",
    "<li>nodes (station ids)\n",
    "<li>edges (station id, station id)\n",
    "<li>edge data \n",
    "<ol>\n",
    "<li>count: number of trips on the edge\n",
    "<li>time: average duration - pickup to dropoff - on that edge\n",
    "</ol>\n",
    "</ol>\n",
    "<li><b>Note:</b> the edge (x1,y1) is the same as (y1,x1) even though the start station ids and end station ids are flipped in the dataframe"
   ]
  },
  {
   "cell_type": "code",
   "execution_count": 4,
   "metadata": {},
   "outputs": [],
   "source": [
    "def get_citibike_graph(df):\n",
    "    \n",
    "    #WRITE YOUR CODE HERE\n",
    "    nodes=set()\n",
    "    edges=set()\n",
    "    node_names={}\n",
    "    for i in df.index:\n",
    "        if df.loc[i, 'start station id'] not in nodes:\n",
    "            nodes.add(df.loc[i, 'start station id'])\n",
    "            node_names[df.loc[i, 'start station id']]=df.loc[i, 'start station name']\n",
    "        if df.loc[i, 'end station id'] not in nodes:\n",
    "            nodes.add(df.loc[i, 'end station id'])\n",
    "            node_names[df.loc[i, 'end station id']]=df.loc[i, 'end station name']\n",
    "        if (df.loc[i, 'start station id'], df.loc[i, 'end station id']) not in edges and (df.loc[i, 'end station id'], df.loc[i, 'start station id']) not in edges:\n",
    "            edges.add((df.loc[i, 'start station id'], df.loc[i, 'end station id']))\n",
    "    G = nx.Graph()\n",
    "    edge_list=list(edges)\n",
    "    \n",
    "    #remove self-cycle:\n",
    "    for i in edge_list:\n",
    "        if i[0]==i[1]:\n",
    "            edge_list.remove(i)\n",
    "            \n",
    "    nodes = nodes\n",
    "    edges = edge_list\n",
    "    #print(nodes)\n",
    "    G.add_edges_from(edges)\n",
    "    #nx.draw(G)\n",
    "    return G,node_names"
   ]
  },
  {
   "cell_type": "markdown",
   "metadata": {},
   "source": [
    "<h1>STEP 4: Create the following graphs using the function above</h1>\n",
    "<li>G: A graph of all the data in the dataframe\n",
    "<li>m_G: A graph containing only data from male riders\n",
    "<li>f_G: A graph containing only data from female riders\n",
    "<li>Note: for m_G and f_G you will need to extract data from the dataframe and male has gender=1; female has gender=2"
   ]
  },
  {
   "cell_type": "code",
   "execution_count": 5,
   "metadata": {},
   "outputs": [],
   "source": [
    "G,nodes=get_citibike_graph(df)"
   ]
  },
  {
   "cell_type": "code",
   "execution_count": 6,
   "metadata": {},
   "outputs": [
    {
     "data": {
      "image/png": "[encoded data removed]",
      "text/plain": [
       "<Figure size 432x288 with 1 Axes>"
      ]
     },
     "metadata": {},
     "output_type": "display_data"
    }
   ],
   "source": [
    "nx.draw(G)"
   ]
  },
  {
   "cell_type": "code",
   "execution_count": 7,
   "metadata": {},
   "outputs": [
    {
     "data": {
      "image/png": "[encoded data removed]",
      "text/plain": [
       "<Figure size 432x288 with 1 Axes>"
      ]
     },
     "metadata": {},
     "output_type": "display_data"
    }
   ],
   "source": [
    "m_G,m_nodes=get_citibike_graph(df[df['gender']==1]) #Gender (Zero=unknown; 1=male; 2=female)\n",
    "nx.draw(m_G)"
   ]
  },
  {
   "cell_type": "code",
   "execution_count": 8,
   "metadata": {},
   "outputs": [
    {
     "data": {
      "image/png": "[encoded data removed]",
      "text/plain": [
       "<Figure size 432x288 with 1 Axes>"
      ]
     },
     "metadata": {},
     "output_type": "display_data"
    }
   ],
   "source": [
    "f_G,f_nodes=get_citibike_graph(df[df['gender']==2]) #Gender (Zero=unknown; 1=male; 2=female)\n",
    "nx.draw(f_G)"
   ]
  },
  {
   "cell_type": "markdown",
   "metadata": {},
   "source": [
    "<h1>STEP 5: Answer the following questions for each of the graphs</h1>\n",
    "<ol>\n",
    "Please answer the following questions for total_df, male_df & female_df:\n",
    "<li>Which stations (name) are the best and worst connected (max degree)?\n",
    "<li>Travel between which pair of stations is the longest in terms of average duration between bike pickups and dropoffs. Report both the two stations as well as the time in minutes\n",
    "<li>Which edges are associated with the most and least number of trips?"
   ]
  },
  {
   "cell_type": "markdown",
   "metadata": {},
   "source": [
    "Which stations (name) have the greatest and least number of connections (max degree)?"
   ]
  },
  {
   "cell_type": "code",
   "execution_count": 9,
   "metadata": {},
   "outputs": [
    {
     "name": "stdout",
     "output_type": "stream",
     "text": [
      "greatest number of connections: (519, 431)\n",
      "least number of connections: (3428, 1)\n"
     ]
    }
   ],
   "source": [
    "#G.degree() \n",
    "print('greatest number of connections:', max(list(G.degree()),key=lambda x : x[1]))\n",
    "print('least number of connections:', min(list(G.degree()),key=lambda x : x[1]))"
   ]
  },
  {
   "cell_type": "code",
   "execution_count": 10,
   "metadata": {},
   "outputs": [
    {
     "name": "stdout",
     "output_type": "stream",
     "text": [
      "greatest number of connections: (519, 411)\n",
      "least number of connections: (3428, 1)\n"
     ]
    }
   ],
   "source": [
    "print('greatest number of connections:', max(list(m_G.degree()),key=lambda x : x[1]))\n",
    "print('least number of connections:', min(list(m_G.degree()),key=lambda x : x[1]))"
   ]
  },
  {
   "cell_type": "code",
   "execution_count": 11,
   "metadata": {},
   "outputs": [
    {
     "name": "stdout",
     "output_type": "stream",
     "text": [
      "greatest number of connections: (519, 264)\n",
      "least number of connections: (3485, 1)\n"
     ]
    }
   ],
   "source": [
    "print('greatest number of connections:', max(list(f_G.degree()),key=lambda x : x[1]))\n",
    "print('least number of connections:', min(list(f_G.degree()),key=lambda x : x[1]))"
   ]
  },
  {
   "cell_type": "markdown",
   "metadata": {},
   "source": [
    "Travel between which pair of stations is the longest in terms of average duration between bike pickups and dropoffs"
   ]
  },
  {
   "cell_type": "code",
   "execution_count": 61,
   "metadata": {},
   "outputs": [],
   "source": [
    "#df[((df['start station id']==482) & (df['end station id']==72)) | \n",
    "#                                       ((df['start station id']==72) & (df['end station id']==482))]['tripduration'].mean()"
   ]
  },
  {
   "cell_type": "code",
   "execution_count": 19,
   "metadata": {},
   "outputs": [],
   "source": [
    "def get_longest_duration(df):\n",
    "    edges=set()\n",
    "    for i in df.index:\n",
    "        if (df.loc[i, 'start station id'], df.loc[i, 'end station id']) not in edges and (df.loc[i, 'end station id'], df.loc[i, 'start station id']) not in edges:\n",
    "            edges.add((df.loc[i, 'start station id'], df.loc[i, 'end station id']))\n",
    "    edge_list=list(edges)\n",
    "    #remove self-cycle\n",
    "    for i in edge_list:\n",
    "        if i[0]==i[1]:\n",
    "            edge_list.remove(i)\n",
    "    #build duaration list:\n",
    "    duration=[]\n",
    "    for i in edge_list:\n",
    "        d=df[((df['start station id']==i[0]) & (df['end station id']==i[1])) | \n",
    "                                       ((df['start station id']==i[1]) & (df['end station id']==i[0]))]['tripduration'].mean()\n",
    "        duration.append((i[0], i[1], d/60))   \n",
    "    \n",
    "    return  max(duration,key=lambda x : x[2])"
   ]
  },
  {
   "cell_type": "code",
   "execution_count": 20,
   "metadata": {},
   "outputs": [
    {
     "name": "stdout",
     "output_type": "stream",
     "text": [
      "longest average duration: (3082, 144, 325167.48333333334)\n"
     ]
    }
   ],
   "source": [
    "print('longest average duration:',get_longest_duration(df))"
   ]
  },
  {
   "cell_type": "code",
   "execution_count": 39,
   "metadata": {},
   "outputs": [
    {
     "name": "stdout",
     "output_type": "stream",
     "text": [
      "longest average duration for male: (3082, 144, 325167.48333333334)\n"
     ]
    }
   ],
   "source": [
    "print('longest average duration for male:',get_longest_duration(df[df['gender']==1]))"
   ]
  },
  {
   "cell_type": "code",
   "execution_count": 40,
   "metadata": {},
   "outputs": [
    {
     "name": "stdout",
     "output_type": "stream",
     "text": [
      "longest average duration for female: (270, 3652, 73698.81666666667)\n"
     ]
    }
   ],
   "source": [
    "print('longest average duration for female:',get_longest_duration(df[df['gender']==2]))"
   ]
  },
  {
   "cell_type": "markdown",
   "metadata": {},
   "source": [
    "Which edges are associated with the most and least number of trips?"
   ]
  },
  {
   "cell_type": "code",
   "execution_count": 46,
   "metadata": {},
   "outputs": [],
   "source": [
    "def edge_with_most_least_trip(df):\n",
    "    edges=set()\n",
    "    for i in df.index:\n",
    "        if (df.loc[i, 'start station id'], df.loc[i, 'end station id']) not in edges and (df.loc[i, 'end station id'], df.loc[i, 'start station id']) not in edges:\n",
    "            edges.add((df.loc[i, 'start station id'], df.loc[i, 'end station id']))\n",
    "    edge_list=list(edges)\n",
    "    #remove self-cycle\n",
    "    for i in edge_list:\n",
    "        if i[0]==i[1]:\n",
    "            edge_list.remove(i)\n",
    "    #build nums list:\n",
    "    nums=[]\n",
    "    for i in edge_list:\n",
    "        d=df[((df['start station id']==i[0]) & (df['end station id']==i[1])) | \n",
    "                                       ((df['start station id']==i[1]) & (df['end station id']==i[0]))]\n",
    "        nums.append((i[0], i[1], len(d)))  \n",
    "        \n",
    "    return nums"
   ]
  },
  {
   "cell_type": "code",
   "execution_count": 47,
   "metadata": {},
   "outputs": [
    {
     "name": "stdout",
     "output_type": "stream",
     "text": [
      "edges associated with the most number of trips? (432, 3263, 700)\n",
      "edges associated with the least number of trips? (3413, 3478, 1)\n"
     ]
    }
   ],
   "source": [
    "df1=edge_with_most_least_trip(df)\n",
    "print('edges associated with the most number of trips?', max(df1,key=lambda x : x[2]))\n",
    "print('edges associated with the least number of trips?', min(df1,key=lambda x : x[2]))"
   ]
  },
  {
   "cell_type": "code",
   "execution_count": 48,
   "metadata": {},
   "outputs": [
    {
     "name": "stdout",
     "output_type": "stream",
     "text": [
      "edges associated with the most number of trips? (432, 3263, 533)\n",
      "edges associated with the least number of trips? (3413, 3478, 1)\n"
     ]
    }
   ],
   "source": [
    "m_df=edge_with_most_least_trip(df[df['gender']==1])\n",
    "print('edges associated with the most number of trips?', max(m_df,key=lambda x : x[2]))\n",
    "print('edges associated with the least number of trips?', min(m_df,key=lambda x : x[2]))"
   ]
  },
  {
   "cell_type": "code",
   "execution_count": 49,
   "metadata": {},
   "outputs": [
    {
     "name": "stdout",
     "output_type": "stream",
     "text": [
      "edges associated with the most number of trips? (432, 3263, 161)\n",
      "edges associated with the least number of trips? (455, 3173, 1)\n"
     ]
    }
   ],
   "source": [
    "f_df=edge_with_most_least_trip(df[df['gender']==2])\n",
    "print('edges associated with the most number of trips?', max(f_df,key=lambda x : x[2]))\n",
    "print('edges associated with the least number of trips?', min(f_df,key=lambda x : x[2]))"
   ]
  },
  {
   "cell_type": "markdown",
   "metadata": {},
   "source": [
    "<h2>Centrality</h2>\n",
    "One of the concerns that the citibike system has to deal with is ensuring that no station has empty slots (a bike should always be available) and that no station should have no empty slots (you should be able to return a bike). To do this, it needs to monitor the movement of bikes through the system, ideally using a directed graph. Though our graph is not directed, we can look at some network characteristics that will help us answer these questions. Note that the \"trips\" feature in edge data captures flows.\n",
    "<li>Which node is a possible bottleneck node in terms of bike flows?\n",
    "<li>Which node is the \"nearest\" to all other nodes (irrespective of flows)?\n",
    "<li>Which node is the \"nearest\" to all other nodes (in terms of distance = time)?\n"
   ]
  },
  {
   "cell_type": "code",
   "execution_count": 21,
   "metadata": {
    "scrolled": false
   },
   "outputs": [],
   "source": [
    "from networkx.algorithms import closeness_centrality\n",
    "from networkx.algorithms import communicability"
   ]
  },
  {
   "cell_type": "code",
   "execution_count": 24,
   "metadata": {},
   "outputs": [],
   "source": [
    "#build a new function that generate the graph with average duration in it\n",
    "def get_citibike_graph_include_duration(df):\n",
    "    \n",
    "    #WRITE YOUR CODE HERE\n",
    "    nodes=set()\n",
    "    edges=set()\n",
    "    node_names={}\n",
    "    for i in df.index:\n",
    "        if df.loc[i, 'start station id'] not in nodes:\n",
    "            nodes.add(df.loc[i, 'start station id'])\n",
    "            node_names[df.loc[i, 'start station id']]=df.loc[i, 'start station name']\n",
    "        if df.loc[i, 'end station id'] not in nodes:\n",
    "            nodes.add(df.loc[i, 'end station id'])\n",
    "            node_names[df.loc[i, 'end station id']]=df.loc[i, 'end station name']\n",
    "        if (df.loc[i, 'start station id'], df.loc[i, 'end station id']) not in edges and (df.loc[i, 'end station id'], df.loc[i, 'start station id']) not in edges:\n",
    "            edges.add((df.loc[i, 'start station id'], df.loc[i, 'end station id']))\n",
    "    G = nx.Graph()\n",
    "    edge_list=list(edges)\n",
    "    \n",
    "    #remove self-cycle\n",
    "    for i in edge_list:\n",
    "        if i[0]==i[1]:\n",
    "            edge_list.remove(i)\n",
    "    \n",
    "    #build duaration list:\n",
    "    duration=[]\n",
    "    for i in edge_list:\n",
    "        duration.append((i[0], i[1], df[((df['start station id']==i[0]) & (df['end station id']==i[1])) | \n",
    "                                       ((df['start station id']==i[1]) & (df['end station id']==i[0]))]['tripduration'].mean()))    \n",
    "    nodes = nodes\n",
    "    for d in duration:\n",
    "        G.add_edge(d[0],d[1],distance=d[2])\n",
    "    \n",
    "    #nx.draw(G)\n",
    "    return G,node_names\n"
   ]
  },
  {
   "cell_type": "markdown",
   "metadata": {},
   "source": [
    "Which node is a possible bottleneck node in terms of bike flows?"
   ]
  },
  {
   "cell_type": "code",
   "execution_count": 26,
   "metadata": {},
   "outputs": [],
   "source": [
    "G_d, node_names_d=get_citibike_graph_include_duration(df)"
   ]
  },
  {
   "cell_type": "code",
   "execution_count": 35,
   "metadata": {},
   "outputs": [
    {
     "name": "stdout",
     "output_type": "stream",
     "text": [
      "Which node is a possible bottleneck node in terms of bike flows? (3129, 0.055780298104938716)\n"
     ]
    }
   ],
   "source": [
    "b_c=nx.betweenness_centrality(G_d,weight='distance')\n",
    "max_key=max(b_c, key=lambda x: b_c[x])\n",
    "print('Which node is a possible bottleneck node in terms of bike flows?',(max_key, b_c[max_key]))"
   ]
  },
  {
   "cell_type": "markdown",
   "metadata": {},
   "source": [
    "Which node is the \"nearest\" to all other nodes (irrespective of flows)?"
   ]
  },
  {
   "cell_type": "code",
   "execution_count": 36,
   "metadata": {},
   "outputs": [
    {
     "name": "stdout",
     "output_type": "stream",
     "text": [
      "Which node is the nearest to all other nodes (irrespective of flows) (519, 0.6955332725615314)\n"
     ]
    }
   ],
   "source": [
    "c_c=nx.closeness_centrality(G)\n",
    "max_key=max(c_c, key=lambda x: c_c[x])\n",
    "print('Which node is the nearest to all other nodes (irrespective of flows)',(max_key, c_c[max_key]))"
   ]
  },
  {
   "cell_type": "markdown",
   "metadata": {},
   "source": [
    "Which node is the \"nearest\" to all other nodes (in terms of distance = time)?"
   ]
  },
  {
   "cell_type": "code",
   "execution_count": 38,
   "metadata": {},
   "outputs": [
    {
     "name": "stdout",
     "output_type": "stream",
     "text": [
      "Which node is the \"nearest\" to all other nodes (in terms of distance = time)? (439, 0.00013277000747610227)\n"
     ]
    }
   ],
   "source": [
    "c_c2=nx.closeness_centrality(G_d,distance='distance')\n",
    "max_key=max(c_c2, key=lambda x: c_c2[x])\n",
    "print('Which node is the \"nearest\" to all other nodes (in terms of distance = time)?',(max_key, c_c2[max_key]))"
   ]
  },
  {
   "cell_type": "code",
   "execution_count": null,
   "metadata": {},
   "outputs": [],
   "source": []
  }
 ],
 "metadata": {
  "kernelspec": {
   "display_name": "Python 3 (ipykernel)",
   "language": "python",
   "name": "python3"
  },
  "language_info": {
   "codemirror_mode": {
    "name": "ipython",
    "version": 3
   },
   "file_extension": ".py",
   "mimetype": "text/x-python",
   "name": "python",
   "nbconvert_exporter": "python",
   "pygments_lexer": "ipython3",
   "version": "3.9.12"
  }
 },
 "nbformat": 4,
 "nbformat_minor": 2
}
