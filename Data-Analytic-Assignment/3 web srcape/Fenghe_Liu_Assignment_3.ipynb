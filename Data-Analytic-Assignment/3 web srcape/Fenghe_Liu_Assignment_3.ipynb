{
 "cells": [
  {
   "cell_type": "markdown",
   "metadata": {},
   "source": [
    "<h1>Scraping Fidelity.com</h1>\n",
    "In this assignment, you will scrape data from fidelity.com. The goal of the exercise is to get the latest sector performance data from the US markets, and to get the total market capitalization for each sector. \n",
    "\n",
    "The end result is to write a function: <i>get_us_sector_performance()</i> that will return a list of tuples. Each tuple should correspond to a sector and should contain the following data:\n",
    "<li>the sector name\n",
    "<li>the amount the sector has moved\n",
    "<li>the market capitalization of the sector\n",
    "<li>the market weight of the sector\n",
    "<li>a link to the fidelity page for that sector\n",
    "\n",
    "<p>\n",
    "The data should be sorted by decreasing order of market weight. I.e., the sector with the highest weight should be in the first tuple, etc."
   ]
  },
  {
   "cell_type": "markdown",
   "metadata": {},
   "source": [
    "<h3>Process</h3>\n",
    "<li>Get a list of sectors and the links to the sector detail pages from the url (see function)\n",
    "<li>Loop through the list and call the function <i>get_sector_change_and_market_cap(sector_page_link)</i> for each sector\n",
    "<li>Accumulate the name, the change, the capitalization, the weight and the link for each sector in output_list (see function)\n",
    "<li>Sort the list by market weight"
   ]
  },
  {
   "cell_type": "markdown",
   "metadata": {},
   "source": [
    "<b>Notes:</b>\n",
    "<li>Note that the market weight is a string with a % sign at the back. You will need to get rid of the % and convert the string into a float before you can sort it\n",
    "<li>Your starting data is the url listed below. You need to extract all data, including links to the sector pages, from the page at this url\n",
    "<li>To sort a list of tuples by an arbitrary element, use the example at the bottom of this notebook"
   ]
  },
  {
   "cell_type": "code",
   "execution_count": 85,
   "metadata": {},
   "outputs": [],
   "source": [
    "def get_us_sector_performance():\n",
    "    \n",
    "    url='https://eresearch.fidelity.com/eresearch/goto/markets_sectors/landing.jhtml'\n",
    "    response = requests.get(url)\n",
    "    if not response.status_code == 200:\n",
    "        return None\n",
    "    \n",
    "    results_page = BeautifulSoup(response.content,'lxml')\n",
    "    sector_page= results_page.find('tbody', id='tbody_id').find_all('div',class_='heading')\n",
    "    #print(sector_page)\n",
    "    output_list=[]\n",
    "    for i in sector_page:\n",
    "        sectorlink=i.find('a').get('href')\n",
    "        name=i.find('a').find('strong').get_text()\n",
    "        sector_page_link='https://eresearch.fidelity.com' + sectorlink\n",
    "        addi_info=get_sector_change_and_market_cap(sector_page_link)\n",
    "        moved=addi_info[0]\n",
    "        cap=addi_info[1]\n",
    "        weight=addi_info[2]\n",
    "    \n",
    "        output_list.append((name,moved,cap,weight,sector_page_link))\n",
    "        output_list.sort(key=lambda x:x[3],reverse=True)\n",
    "    \n",
    "    return output_list\n",
    "    "
   ]
  },
  {
   "cell_type": "code",
   "execution_count": 75,
   "metadata": {},
   "outputs": [],
   "source": [
    "def get_sector_change_and_market_cap(sector_page_link):\n",
    "    \n",
    "    #import requests\n",
    "    #from bs4 import BeautifulSoup\n",
    "    \n",
    "    response = requests.get(sector_page_link)\n",
    "    if not response.status_code == 200:\n",
    "        return None\n",
    "    try:\n",
    "        results_page = BeautifulSoup(response.content,'lxml')\n",
    "        indicator_list= results_page.find_all('td')\n",
    "        moved_percent=indicator_list[0].find('span').get_text()\n",
    "        cap=indicator_list[1].find('span').get_text()\n",
    "        weight_percent=indicator_list[2].find('span').get_text()\n",
    "        \n",
    "        moved=float(moved_percent.replace('%',''))\n",
    "        weight=float(weight_percent.replace('%',''))\n",
    "        \n",
    "        return (moved,cap,weight)\n",
    "    \n",
    "    except:\n",
    "        return None\n",
    "\n",
    "\n",
    "   "
   ]
  },
  {
   "cell_type": "code",
   "execution_count": 76,
   "metadata": {},
   "outputs": [
    {
     "data": {
      "text/plain": [
       "(-1.83, '$6.39T', 11.72)"
      ]
     },
     "execution_count": 76,
     "metadata": {},
     "output_type": "execute_result"
    }
   ],
   "source": [
    "#Test get_sector_change_and_market_cap()\n",
    "link = \"https://eresearch.fidelity.com/eresearch/markets_sectors/sectors/sectors_in_market.jhtml?tab=learn&sector=25\"\n",
    "get_sector_change_and_market_cap(link)\n",
    "#Should return (-0.40, '$3.58T', 6.80)\n",
    "#Note that neither the -0.40, nor the 6.80, end with a % sign"
   ]
  },
  {
   "cell_type": "code",
   "execution_count": 86,
   "metadata": {
    "scrolled": false
   },
   "outputs": [
    {
     "data": {
      "text/plain": [
       "[('Information Technology',\n",
       "  -1.94,\n",
       "  '$11.07T',\n",
       "  26.4,\n",
       "  'https://eresearch.fidelity.com/eresearch/markets_sectors/sectors/sectors_in_market.jhtml?tab=learn&sector=45'),\n",
       " ('Health Care',\n",
       "  -1.4,\n",
       "  '$6.98T',\n",
       "  15.11,\n",
       "  'https://eresearch.fidelity.com/eresearch/markets_sectors/sectors/sectors_in_market.jhtml?tab=learn&sector=35'),\n",
       " ('Consumer Discretionary',\n",
       "  -1.83,\n",
       "  '$6.39T',\n",
       "  11.72,\n",
       "  'https://eresearch.fidelity.com/eresearch/markets_sectors/sectors/sectors_in_market.jhtml?tab=learn&sector=25'),\n",
       " ('Financials',\n",
       "  -1.1,\n",
       "  '$6.84T',\n",
       "  11.01,\n",
       "  'https://eresearch.fidelity.com/eresearch/markets_sectors/sectors/sectors_in_market.jhtml?tab=learn&sector=40'),\n",
       " ('Communication Services',\n",
       "  -1.66,\n",
       "  '$4.01T',\n",
       "  8.07,\n",
       "  'https://eresearch.fidelity.com/eresearch/markets_sectors/sectors/sectors_in_market.jhtml?tab=learn&sector=50'),\n",
       " ('Industrials',\n",
       "  -1.31,\n",
       "  '$4.42T',\n",
       "  7.88,\n",
       "  'https://eresearch.fidelity.com/eresearch/markets_sectors/sectors/sectors_in_market.jhtml?tab=learn&sector=20'),\n",
       " ('Consumer Staples',\n",
       "  -1.79,\n",
       "  '$3.96T',\n",
       "  6.88,\n",
       "  'https://eresearch.fidelity.com/eresearch/markets_sectors/sectors/sectors_in_market.jhtml?tab=learn&sector=30'),\n",
       " ('Energy',\n",
       "  -0.9,\n",
       "  '$3.32T',\n",
       "  4.55,\n",
       "  'https://eresearch.fidelity.com/eresearch/markets_sectors/sectors/sectors_in_market.jhtml?tab=learn&sector=10'),\n",
       " ('Utilities',\n",
       "  -1.97,\n",
       "  '$1.51T',\n",
       "  3.07,\n",
       "  'https://eresearch.fidelity.com/eresearch/markets_sectors/sectors/sectors_in_market.jhtml?tab=learn&sector=55'),\n",
       " ('Real Estate',\n",
       "  0.99,\n",
       "  '$1.32T',\n",
       "  2.8,\n",
       "  'https://eresearch.fidelity.com/eresearch/markets_sectors/sectors/sectors_in_market.jhtml?tab=learn&sector=60'),\n",
       " ('Materials',\n",
       "  -0.35,\n",
       "  '$2.02T',\n",
       "  2.51,\n",
       "  'https://eresearch.fidelity.com/eresearch/markets_sectors/sectors/sectors_in_market.jhtml?tab=learn&sector=15')]"
      ]
     },
     "execution_count": 86,
     "metadata": {},
     "output_type": "execute_result"
    }
   ],
   "source": [
    "#Test get_us_sector_performance()\n",
    "get_us_sector_performance()"
   ]
  },
  {
   "cell_type": "code",
   "execution_count": null,
   "metadata": {},
   "outputs": [],
   "source": [
    "#Running the above cell should return (example: obviously the results will vary over time!)\n",
    "\"\"\"\n",
    "[('Information Technology',\n",
    "  2.16,\n",
    "  '$14.64T',\n",
    "  28.02,\n",
    "  'https://eresearch.fidelity.com/eresearch/markets_sectors/sectors/sectors_in_market.jhtml?tab=learn&sector=45'),\n",
    " ('Health Care',\n",
    "  0.19,\n",
    "  '$7.60T',\n",
    "  13.22,\n",
    "  'https://eresearch.fidelity.com/eresearch/markets_sectors/sectors/sectors_in_market.jhtml?tab=learn&sector=35'),\n",
    " ('Consumer Discretionary',\n",
    "  1.96,\n",
    "  '$8.32T',\n",
    "  11.94,\n",
    "  'https://eresearch.fidelity.com/eresearch/markets_sectors/sectors/sectors_in_market.jhtml?tab=learn&sector=25'),\n",
    " ('Financials',\n",
    "  0.63,\n",
    "  '$8.83T',\n",
    "  11.32,\n",
    "  'https://eresearch.fidelity.com/eresearch/markets_sectors/sectors/sectors_in_market.jhtml?tab=learn&sector=40'),\n",
    " ('Communication Services',\n",
    "  0.78,\n",
    "  '$5.74T',\n",
    "  10.01,\n",
    "  'https://eresearch.fidelity.com/eresearch/markets_sectors/sectors/sectors_in_market.jhtml?tab=learn&sector=50'),\n",
    " ('Industrials',\n",
    "  0.43,\n",
    "  '$5.58T',\n",
    "  8.06,\n",
    "  'https://eresearch.fidelity.com/eresearch/markets_sectors/sectors/sectors_in_market.jhtml?tab=learn&sector=20'),\n",
    " ('Consumer Staples',\n",
    "  -0.16,\n",
    "  '$4.26T',\n",
    "  6.27,\n",
    "  'https://eresearch.fidelity.com/eresearch/markets_sectors/sectors/sectors_in_market.jhtml?tab=learn&sector=30'),\n",
    " ('Energy',\n",
    "  0.12,\n",
    "  '$3.19T',\n",
    "  3.27,\n",
    "  'https://eresearch.fidelity.com/eresearch/markets_sectors/sectors/sectors_in_market.jhtml?tab=learn&sector=10'),\n",
    " ('Real Estate',\n",
    "  0.69,\n",
    "  '$1.71T',\n",
    "  2.72,\n",
    "  'https://eresearch.fidelity.com/eresearch/markets_sectors/sectors/sectors_in_market.jhtml?tab=learn&sector=60'),\n",
    " ('Utilities',\n",
    "  0.55,\n",
    "  '$1.63T',\n",
    "  2.6,\n",
    "  'https://eresearch.fidelity.com/eresearch/markets_sectors/sectors/sectors_in_market.jhtml?tab=learn&sector=55'),\n",
    " ('Materials',\n",
    "  0.25,\n",
    "  '$2.53T',\n",
    "  2.58,\n",
    "  'https://eresearch.fidelity.com/eresearch/markets_sectors/sectors/sectors_in_market.jhtml?tab=learn&sector=15')]\n",
    "  \n",
    "\"\"\""
   ]
  },
  {
   "cell_type": "code",
   "execution_count": null,
   "metadata": {},
   "outputs": [],
   "source": [
    "#Print the different sector names from the above output in alpabetical order"
   ]
  },
  {
   "cell_type": "code",
   "execution_count": 89,
   "metadata": {},
   "outputs": [
    {
     "name": "stdout",
     "output_type": "stream",
     "text": [
      "['Communication Services', 'Consumer Discretionary', 'Consumer Staples', 'Energy', 'Financials', 'Health Care', 'Industrials', 'Information Technology', 'Materials', 'Real Estate', 'Utilities']\n"
     ]
    }
   ],
   "source": [
    "a=get_us_sector_performance()\n",
    "a.sort(key=lambda x:x[0])\n",
    "res=[i[0] for i in a]\n",
    "print(res)"
   ]
  },
  {
   "cell_type": "code",
   "execution_count": 92,
   "metadata": {},
   "outputs": [
    {
     "name": "stdout",
     "output_type": "stream",
     "text": [
      "{'Real Estate': '$1.32T', 'Utilities': '$1.51T', 'Materials': '$2.02T', 'Energy': '$3.32T', 'Consumer Staples': '$3.96T', 'Communication Services': '$4.01T', 'Industrials': '$4.42T', 'Consumer Discretionary': '$6.39T', 'Financials': '$6.84T', 'Health Care': '$6.98T', 'Information Technology': '$11.07T'}\n"
     ]
    }
   ],
   "source": [
    "### Find the sector with lowest Market cap by creating a dict of all sectors and their market caps\n",
    "##    example of the output. {'Materials': '$2.01T', ...}\n",
    "a=get_us_sector_performance()\n",
    "a.sort(key=lambda x: float(x[2][1:-1]))\n",
    "res_dict={}\n",
    "for i in a:\n",
    "    res_dict[i[0]]=i[2]\n",
    "print(res_dict)\n"
   ]
  },
  {
   "cell_type": "code",
   "execution_count": null,
   "metadata": {},
   "outputs": [],
   "source": [
    "a=get_us_sector_performance()\n",
    "a.sort(key=lambda x:x[0])"
   ]
  },
  {
   "cell_type": "markdown",
   "metadata": {},
   "source": [
    "<h3>Hint: How to sort tuples by an arbitrary element?</h3>"
   ]
  },
  {
   "cell_type": "code",
   "execution_count": 83,
   "metadata": {},
   "outputs": [
    {
     "name": "stdout",
     "output_type": "stream",
     "text": [
      "[('d', 29.2, 'z'), ('a', 23.2, 'b'), ('c', 17.4, 'f'), ('e', 1.74, 'bb')]\n"
     ]
    }
   ],
   "source": [
    "x = [('a',23.2,'b'),('c',17.4,'f'),('d',29.2,'z'),('e',1.74,'bb')]\n",
    "#Sort by the first element of the tuple\n",
    "x.sort(key=lambda x:x[1],reverse=True)\n",
    "print(x)\n"
   ]
  },
  {
   "cell_type": "code",
   "execution_count": 93,
   "metadata": {},
   "outputs": [
    {
     "name": "stdout",
     "output_type": "stream",
     "text": [
      "[('e', 1.74, 'bb'), ('d', 29.2, 'z'), ('c', 17.4, 'f'), ('a', 23.2, 'b')]\n"
     ]
    }
   ],
   "source": [
    "x = [('a',23.2,'b'),('c',17.4,'f'),('d',29.2,'z'),('e',1.74,'bb')]\n",
    "#Sort by the element at position 1\n",
    "x.sort(key=lambda x:x[0],reverse=True)\n",
    "print(x)\n"
   ]
  },
  {
   "cell_type": "code",
   "execution_count": null,
   "metadata": {},
   "outputs": [],
   "source": []
  }
 ],
 "metadata": {
  "kernelspec": {
   "display_name": "Python 3 (ipykernel)",
   "language": "python",
   "name": "python3"
  },
  "language_info": {
   "codemirror_mode": {
    "name": "ipython",
    "version": 3
   },
   "file_extension": ".py",
   "mimetype": "text/x-python",
   "name": "python",
   "nbconvert_exporter": "python",
   "pygments_lexer": "ipython3",
   "version": "3.9.12"
  }
 },
 "nbformat": 4,
 "nbformat_minor": 2
}
