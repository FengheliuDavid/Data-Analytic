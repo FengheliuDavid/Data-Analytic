{
 "cells": [
  {
   "cell_type": "markdown",
   "metadata": {},
   "source": [
    "<h1>Problem 1: Part 1</h1>"
   ]
  },
  {
   "cell_type": "code",
   "execution_count": 4,
   "metadata": {},
   "outputs": [],
   "source": [
    "def preceding(char):\n",
    "    coded_char = '' #Your code will figure out what the value of coded_char should be\n",
    "    \n",
    "    #Code goes here\n",
    "    if char=='a':\n",
    "        coded_char='z'\n",
    "    elif char=='A':\n",
    "        coded_char='Z'\n",
    "    elif 66<=ord(char)<=90 or 98<=ord(char)<=122:\n",
    "        coded_char=chr(ord(char)-1)\n",
    "    else:\n",
    "        coded_char=char\n",
    "        \n",
    "    return coded_char"
   ]
  },
  {
   "cell_type": "code",
   "execution_count": 5,
   "metadata": {},
   "outputs": [
    {
     "name": "stdout",
     "output_type": "stream",
     "text": [
      "z\n",
      "a\n",
      "!\n"
     ]
    }
   ],
   "source": [
    "print(preceding('a')) #Should print z\n",
    "print(preceding('b')) #Should print a\n",
    "print(preceding('!')) #Should print !"
   ]
  },
  {
   "cell_type": "markdown",
   "metadata": {},
   "source": [
    "<h1>Problem 1: Part 2</h1>\n"
   ]
  },
  {
   "cell_type": "code",
   "execution_count": 6,
   "metadata": {},
   "outputs": [],
   "source": [
    "def succeeding(char):\n",
    "    coded_char = '' #Your code will figure out what the value of coded_char should be\n",
    "    \n",
    "    #Code goes here\n",
    "    if char=='z':\n",
    "        coded_char='a'\n",
    "    elif char=='Z':\n",
    "        coded_char='A'\n",
    "    elif 65<=ord(char)<=89 or 97<=ord(char)<=121:\n",
    "        coded_char=chr(ord(char)+1)\n",
    "    else:\n",
    "        coded_char=char\n",
    "    \n",
    "    return coded_char    "
   ]
  },
  {
   "cell_type": "code",
   "execution_count": 7,
   "metadata": {},
   "outputs": [
    {
     "name": "stdout",
     "output_type": "stream",
     "text": [
      "a\n",
      "c\n",
      "!\n"
     ]
    }
   ],
   "source": [
    "print(succeeding('z')) #Should print a\n",
    "print(succeeding('b')) #Should print c\n",
    "print(succeeding('!')) #Should print !"
   ]
  },
  {
   "cell_type": "markdown",
   "metadata": {},
   "source": [
    "<h1>Problem 1: Part 3</h1>"
   ]
  },
  {
   "cell_type": "code",
   "execution_count": 12,
   "metadata": {},
   "outputs": [],
   "source": [
    "def message_coder(message_string,function):\n",
    "    coded_message = ''\n",
    "    \n",
    "    #Code goes here\n",
    "    if function==preceding:\n",
    "        for i in message_string:\n",
    "            coded_i=preceding(i)\n",
    "            coded_message=coded_message+coded_i\n",
    "    elif function==succeeding:\n",
    "        for i in message_string:\n",
    "            coded_i=succeeding(i)\n",
    "            coded_message=coded_message+coded_i\n",
    "                \n",
    "    return coded_message"
   ]
  },
  {
   "cell_type": "markdown",
   "metadata": {},
   "source": [
    "<h3>Test <b>preceding</b> and <b>succeeding</b> and <b>message_coder</h3>"
   ]
  },
  {
   "cell_type": "code",
   "execution_count": 13,
   "metadata": {},
   "outputs": [
    {
     "name": "stdout",
     "output_type": "stream",
     "text": [
      "gdkkn cnkkx ydaqz!\n",
      "ifmmp epmmz afcsb!\n"
     ]
    }
   ],
   "source": [
    "print(message_coder('hello dolly zebra!',preceding))# prints 'gdkkn cnkkx ydaqz!’\n",
    "\n",
    "print(message_coder('hello dolly zebra!',succeeding))# prints 'ifmmp epmmz afcsb!’\n"
   ]
  },
  {
   "cell_type": "markdown",
   "metadata": {},
   "source": [
    "<h1>Problem 2: Word Count</h2>"
   ]
  },
  {
   "cell_type": "code",
   "execution_count": 33,
   "metadata": {},
   "outputs": [],
   "source": [
    "def word_distribution(text_string,word_list=[]):\n",
    "    frequency_dict = dict()\n",
    "\n",
    "    #Code goes here\n",
    "    #split and remove punctuations\n",
    "    words=text_string.split()\n",
    "    for i in range(len(words)):\n",
    "        if words[i][-1] not in 'abcdefghijklmnopqrstuvwxyzABCDEFGHIJKLMNOPQRSTUVWXYZ':\n",
    "            w=words[i]\n",
    "            words[i]=w[:-1]\n",
    "    #print(words)\n",
    "    \n",
    "    #lower the words\n",
    "    words=[i.lower() for i in words]\n",
    "    word_list=[i.lower() for i in word_list]\n",
    "    \n",
    "    if word_list:\n",
    "        for i in word_list:\n",
    "            frequency_dict[i]=0\n",
    "        for word in words:\n",
    "            if word in frequency_dict.keys():\n",
    "                frequency_dict[word]+=1\n",
    "    elif not word_list:\n",
    "        frequency_dict={i:0 for i in words}\n",
    "        for word in words:\n",
    "            frequency_dict[word]+=1\n",
    "            \n",
    "    return frequency_dict"
   ]
  },
  {
   "cell_type": "markdown",
   "metadata": {},
   "source": [
    "<h3>Test <b>word_distribution</b></h3>\n"
   ]
  },
  {
   "cell_type": "code",
   "execution_count": 35,
   "metadata": {},
   "outputs": [
    {
     "name": "stdout",
     "output_type": "stream",
     "text": [
      "{'hello': 2, 'how': 1, 'are': 1, 'you': 2, 'please': 1, 'say': 1, 'if': 1, 'don’t': 1, 'love': 1, 'me': 1}\n"
     ]
    }
   ],
   "source": [
    "text_string = \"Hello. How are you? Please say hello if you don’t love me!\"\n",
    "print(word_distribution(text_string)) #should print {‘hello’: 2, ‘how’:1, ‘are’:1, ‘you’:2,’please’:1, “don’t”: 1 …}\n"
   ]
  },
  {
   "cell_type": "code",
   "execution_count": 34,
   "metadata": {},
   "outputs": [
    {
     "name": "stdout",
     "output_type": "stream",
     "text": [
      "{'i': 3, 'saw': 1, 'britain': 0}\n"
     ]
    }
   ],
   "source": [
    "text_string = 'I came, I saw, I conquered!'\n",
    "print(word_distribution(text_string,word_list=['I','saw','Britain'])) # prints {‘i’:3,’saw’:1,’britain':0}\n"
   ]
  },
  {
   "cell_type": "code",
   "execution_count": null,
   "metadata": {
    "collapsed": true
   },
   "outputs": [],
   "source": []
  }
 ],
 "metadata": {
  "kernelspec": {
   "display_name": "Python 3 (ipykernel)",
   "language": "python",
   "name": "python3"
  },
  "language_info": {
   "codemirror_mode": {
    "name": "ipython",
    "version": 3
   },
   "file_extension": ".py",
   "mimetype": "text/x-python",
   "name": "python",
   "nbconvert_exporter": "python",
   "pygments_lexer": "ipython3",
   "version": "3.9.12"
  }
 },
 "nbformat": 4,
 "nbformat_minor": 2
}
